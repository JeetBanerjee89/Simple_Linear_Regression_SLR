{
 "cells": [
  {
   "cell_type": "code",
   "execution_count": 1,
   "id": "b8e998b4-cf14-4237-bddf-cf302c0c9d80",
   "metadata": {},
   "outputs": [],
   "source": [
    "#importing libraries\n",
    "import pandas as pd\n",
    "import numpy as np\n",
    "import matplotlib.pyplot as plt"
   ]
  },
  {
   "cell_type": "code",
   "execution_count": 2,
   "id": "d9edc84b-5b8e-477d-b209-4bfbd0866f06",
   "metadata": {},
   "outputs": [
    {
     "data": {
      "text/html": [
       "<div>\n",
       "<style scoped>\n",
       "    .dataframe tbody tr th:only-of-type {\n",
       "        vertical-align: middle;\n",
       "    }\n",
       "\n",
       "    .dataframe tbody tr th {\n",
       "        vertical-align: top;\n",
       "    }\n",
       "\n",
       "    .dataframe thead th {\n",
       "        text-align: right;\n",
       "    }\n",
       "</style>\n",
       "<table border=\"1\" class=\"dataframe\">\n",
       "  <thead>\n",
       "    <tr style=\"text-align: right;\">\n",
       "      <th></th>\n",
       "      <th>Experience Years</th>\n",
       "      <th>Salary</th>\n",
       "    </tr>\n",
       "  </thead>\n",
       "  <tbody>\n",
       "    <tr>\n",
       "      <th>0</th>\n",
       "      <td>1.1</td>\n",
       "      <td>39343</td>\n",
       "    </tr>\n",
       "    <tr>\n",
       "      <th>1</th>\n",
       "      <td>1.2</td>\n",
       "      <td>42774</td>\n",
       "    </tr>\n",
       "    <tr>\n",
       "      <th>2</th>\n",
       "      <td>1.3</td>\n",
       "      <td>46205</td>\n",
       "    </tr>\n",
       "    <tr>\n",
       "      <th>3</th>\n",
       "      <td>1.5</td>\n",
       "      <td>37731</td>\n",
       "    </tr>\n",
       "    <tr>\n",
       "      <th>4</th>\n",
       "      <td>2.0</td>\n",
       "      <td>43525</td>\n",
       "    </tr>\n",
       "  </tbody>\n",
       "</table>\n",
       "</div>"
      ],
      "text/plain": [
       "   Experience Years  Salary\n",
       "0               1.1   39343\n",
       "1               1.2   42774\n",
       "2               1.3   46205\n",
       "3               1.5   37731\n",
       "4               2.0   43525"
      ]
     },
     "execution_count": 2,
     "metadata": {},
     "output_type": "execute_result"
    }
   ],
   "source": [
    "#reading dataset\n",
    "df = pd.read_csv('https://raw.githubusercontent.com/ybifoundation/Dataset/main/Salary%20Data.csv')\n",
    "df.head()"
   ]
  },
  {
   "cell_type": "code",
   "execution_count": 5,
   "id": "7f49dbd2-d564-40dc-93f5-6636ade4c08f",
   "metadata": {},
   "outputs": [
    {
     "data": {
      "text/plain": [
       "[<matplotlib.lines.Line2D at 0x1cddeeae450>]"
      ]
     },
     "execution_count": 5,
     "metadata": {},
     "output_type": "execute_result"
    },
    {
     "data": {
      "image/png": "[encoded data removed]",
      "text/plain": [
       "<Figure size 640x480 with 1 Axes>"
      ]
     },
     "metadata": {},
     "output_type": "display_data"
    }
   ],
   "source": [
    "#plotting data to verify linear relationship\n",
    "plt.scatter(df['Experience Years'],df['Salary'])\n",
    "plt.xlabel('Experience (in years)')\n",
    "plt.ylabel('Salary (in INR)')\n",
    "\n",
    "#separating out experiences and corresponding salaries \n",
    "X = df.iloc[:,0:1]\n",
    "y = df.iloc[:,-1]\n",
    "\n",
    "#importing 'train_test_split' function from 'model_selection' module under Scikit-learn library\n",
    "from sklearn.model_selection import train_test_split\n",
    "#splitting dataset into 50-50 for training and testing\n",
    "X_train, X_test, y_train, y_test = train_test_split(X,y,test_size=0.5,random_state=2)\n",
    "\n",
    "#importing 'LinearRegression' class from 'linear_model' module under Scikit-learn library\n",
    "from sklearn.linear_model import LinearRegression\n",
    "#creating an object\n",
    "lin_reg = LinearRegression()\n",
    "#fitting the SLR model using training data\n",
    "lin_reg.fit(X_train,y_train)\n",
    "#predicting the salaries for the testing-experiences data\n",
    "y_predict = lin_reg.predict(X_test)\n",
    "\n",
    "#plotting the SLR line\n",
    "plt.plot(X_test,y_predict,color='red')"
   ]
  },
  {
   "cell_type": "code",
   "execution_count": 6,
   "id": "ea7429c3-dfb0-4282-bc5d-eae263a6783f",
   "metadata": {},
   "outputs": [
    {
     "name": "stdout",
     "output_type": "stream",
     "text": [
      "Slope =  [9676.40055178]\n",
      "Intercept =  24324.955224555604\n",
      "MAE:  4188.418276145394\n",
      "MSE:  24808503.80210796\n",
      "RMSE:  4980.813568294638\n",
      "R2-Score:  0.9619270377919448\n",
      "Adjusted R2-Score:  0.9598118732248306\n"
     ]
    }
   ],
   "source": [
    "#calculating slope (m) and intercepts (b) of SLR\n",
    "m = lin_reg.coef_\n",
    "b = lin_reg.intercept_\n",
    "print('Slope = ',m)\n",
    "print('Intercept = ',b)\n",
    "\n",
    "#importing and calculating the regression matrics to verify the model performance on testing data\n",
    "from sklearn.metrics import mean_absolute_error, mean_squared_error, r2_score\n",
    "print('MAE: ',mean_absolute_error(y_test,y_predict))\n",
    "print('MSE: ',mean_squared_error(y_test,y_predict))\n",
    "print('RMSE: ',np.sqrt(mean_squared_error(y_test,y_predict)))\n",
    "print('R2-Score: ',r2_score(y_test,y_predict))\n",
    "#adjusted R2-Score\n",
    "n = X_test.shape[0]\n",
    "k = 1\n",
    "r2_scr = r2_score(y_test,y_predict)\n",
    "r2_score_adjusted = 1-(((1-r2_scr)*(n-1))/(n-1-k))\n",
    "print('Adjusted R2-Score: ',r2_score_adjusted)"
   ]
  },
  {
   "cell_type": "code",
   "execution_count": 7,
   "id": "20d23516-b8ca-4e39-b07a-d96e9cbf2705",
   "metadata": {},
   "outputs": [
    {
     "name": "stdout",
     "output_type": "stream",
     "text": [
      "m = [9676.40055178]\n",
      "b=  [24324.95522456]\n"
     ]
    }
   ],
   "source": [
    "#verifying slope and intercept of simple regression line using ordinary least square (OLR) formulation\n",
    "num = 0\n",
    "den = 0\n",
    "for i in range(X_train.shape[0]):\n",
    "    num = num + ((X_train.values[i]-X_train.values.mean())*(y_train.values[i]-y_train.values.mean()))\n",
    "    den = den + (X_train.values[i]-X_train.values.mean())**2\n",
    "m = num/den\n",
    "b = y_train.values.mean()-(m*X_train.values.mean())\n",
    "print('m =',  m)\n",
    "print('b= ', b)"
   ]
  },
  {
   "cell_type": "code",
   "execution_count": null,
   "id": "a802b223-59bb-47e8-b37e-5ee34deac74e",
   "metadata": {},
   "outputs": [],
   "source": []
  }
 ],
 "metadata": {
  "kernelspec": {
   "display_name": "Python 3 (ipykernel)",
   "language": "python",
   "name": "python3"
  },
  "language_info": {
   "codemirror_mode": {
    "name": "ipython",
    "version": 3
   },
   "file_extension": ".py",
   "mimetype": "text/x-python",
   "name": "python",
   "nbconvert_exporter": "python",
   "pygments_lexer": "ipython3",
   "version": "3.12.2"
  }
 },
 "nbformat": 4,
 "nbformat_minor": 5
}
